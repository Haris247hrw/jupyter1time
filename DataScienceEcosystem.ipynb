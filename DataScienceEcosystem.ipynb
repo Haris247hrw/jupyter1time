{
 "cells": [
  {
   "cell_type": "markdown",
   "id": "d6835239-e287-4534-9c41-578197f59f17",
   "metadata": {},
   "source": [
    "# Data Science Tools and Ecosystem"
   ]
  },
  {
   "cell_type": "markdown",
   "id": "e0d434d9-befb-448c-9630-de565ca700b7",
   "metadata": {},
   "source": [
    "In this notebook, Data Science Tools and Ecosystem are summarized.\n"
   ]
  },
  {
   "cell_type": "markdown",
   "id": "287c2793-3155-4435-b43d-b6667216b731",
   "metadata": {},
   "source": [
    "Some of the popular languages that Data Scientists use are:"
   ]
  },
  {
   "cell_type": "markdown",
   "id": "3b2f9e36-0e82-46f9-a2de-78e36c3b5819",
   "metadata": {},
   "source": [
    "1. Python\n",
    "2. R\n",
    "3. SQL\n",
    "4. Scala\n",
    "5. Java\n",
    "6. C++\n",
    "7. Julia\n",
    "8. JS\n",
    "9. PHP\n",
    "10. Ruby\n",
    "11. Visual Basic"
   ]
  },
  {
   "cell_type": "markdown",
   "id": "ed6e52e0-5d72-4090-8159-0660b6f643fb",
   "metadata": {},
   "source": [
    "Some of the commonly used libraries used by Data Scientists include:"
   ]
  },
  {
   "cell_type": "markdown",
   "id": "3678ddcc-7570-4571-9a76-31ba23b5b8c0",
   "metadata": {},
   "source": [
    "1. NumPy\n",
    "2. Pandas\n",
    "3. Scikit-learn\n",
    "4. Keras\n",
    "5. Matplotlib\n",
    "6. Seaborn\n",
    "7. Tensorflow\n",
    "8. PyTorch"
   ]
  },
  {
   "cell_type": "markdown",
   "id": "c9d9e712-3750-4756-8211-e01158007aeb",
   "metadata": {},
   "source": [
    "| Data Science Tools |\n",
    "|--------------------|\n",
    "| Jupyter Notebooks  |\n",
    "| RStudio            |\n",
    "| Spyder             |"
   ]
  },
  {
   "cell_type": "markdown",
   "id": "1fb5c3c7-649d-448e-aa9d-b474a2af8156",
   "metadata": {},
   "source": [
    "<h3> Below are a few examples of evaluating arithmetic expressions in Python </h3>"
   ]
  },
  {
   "cell_type": "code",
   "execution_count": 12,
   "id": "9721fbba-c716-45de-bd54-db8bda497222",
   "metadata": {},
   "outputs": [
    {
     "data": {
      "text/plain": [
       "17"
      ]
     },
     "execution_count": 12,
     "metadata": {},
     "output_type": "execute_result"
    }
   ],
   "source": [
    "#This a simple arithmetic expression to mutiply then add integers\n",
    "(3*4)+5"
   ]
  },
  {
   "cell_type": "code",
   "execution_count": 13,
   "id": "4b30dc39-2d62-4ae6-a317-d0f456b5e1f5",
   "metadata": {},
   "outputs": [
    {
     "data": {
      "text/plain": [
       "3.3333333333333335"
      ]
     },
     "execution_count": 13,
     "metadata": {},
     "output_type": "execute_result"
    }
   ],
   "source": [
    "#This will convert 200 minutes to hours by diving by 60\n",
    "minutes = 200\n",
    "hours = minutes / 60\n",
    "hours"
   ]
  },
  {
   "cell_type": "markdown",
   "id": "93cdb8e4-3172-4524-962e-139a303cda43",
   "metadata": {},
   "source": [
    "**Objectives:**"
   ]
  },
  {
   "cell_type": "markdown",
   "id": "e0d81d16-3a97-4d87-a4ae-9b8c1346fe22",
   "metadata": {},
   "source": [
    "- Explore popular programming languages used in Data Science\n",
    "- Understand fundamental concepts of data analysis and visualization\n",
    "- Learn how to manipulate and clean datasets using Python libraries\n",
    "- Gain proficiency in statistical analysis techniques\n",
    "- Practice building predictive models and evaluating their performance"
   ]
  },
  {
   "cell_type": "markdown",
   "id": "9bcfa6da-9763-40dc-a87f-533f445d490e",
   "metadata": {},
   "source": [
    "## Author\n",
    "\n",
    "Haris Che Rose"
   ]
  },
  {
   "cell_type": "code",
   "execution_count": null,
   "id": "c95228b8-8e61-42c6-9fee-67e9ae369dcb",
   "metadata": {},
   "outputs": [],
   "source": []
  }
 ],
 "metadata": {
  "kernelspec": {
   "display_name": "Python 3 (ipykernel)",
   "language": "python",
   "name": "python3"
  },
  "language_info": {
   "codemirror_mode": {
    "name": "ipython",
    "version": 3
   },
   "file_extension": ".py",
   "mimetype": "text/x-python",
   "name": "python",
   "nbconvert_exporter": "python",
   "pygments_lexer": "ipython3",
   "version": "3.11.7"
  }
 },
 "nbformat": 4,
 "nbformat_minor": 5
}
